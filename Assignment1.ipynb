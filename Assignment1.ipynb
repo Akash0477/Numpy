{
  "nbformat": 4,
  "nbformat_minor": 0,
  "metadata": {
    "colab": {
      "name": "Akash Das - Linspace.ipynb",
      "provenance": []
    },
    "kernelspec": {
      "name": "python3",
      "display_name": "Python 3"
    }
  },
  "cells": [
    {
      "cell_type": "code",
      "metadata": {
        "id": "0buf2NaBapwI",
        "colab_type": "code",
        "colab": {}
      },
      "source": [
        ""
      ],
      "execution_count": 0,
      "outputs": []
    },
    {
      "cell_type": "code",
      "metadata": {
        "colab_type": "code",
        "id": "8EHyQ89qck0Q",
        "outputId": "1c781029-0d7b-47a0-c048-db372d4c4d8e",
        "colab": {
          "base_uri": "https://localhost:8080/",
          "height": 101
        }
      },
      "source": [
        "min=int(input(\"enter the min. no.\"))\n",
        "max=int(input(\"enter the max. no.\"))\n",
        "n=int(input(\"enter the n no.\"))\n",
        "def linspace(min,max,n):\n",
        "  pylist=[]\n",
        "  spacing=(max-min)/(n-1)\n",
        "  for i in range(n):\n",
        "    pylist.append(min+i*spacing)\n",
        "  return pylist\n",
        "  \n",
        "result=linspace(min,max,n)\n",
        "print(result)\n",
        "print(type(result))"
      ],
      "execution_count": 0,
      "outputs": [
        {
          "output_type": "stream",
          "text": [
            "enter the min. no.10\n",
            "enter the max. no.20\n",
            "enter the n no.10\n",
            "[10.0, 11.11111111111111, 12.222222222222221, 13.333333333333334, 14.444444444444445, 15.555555555555555, 16.666666666666668, 17.77777777777778, 18.88888888888889, 20.0]\n",
            "<class 'list'>\n"
          ],
          "name": "stdout"
        }
      ]
    },
    {
      "cell_type": "code",
      "metadata": {
        "id": "DfhUd5znbtzk",
        "colab_type": "code",
        "colab": {}
      },
      "source": [
        ""
      ],
      "execution_count": 0,
      "outputs": []
    }
  ]
}